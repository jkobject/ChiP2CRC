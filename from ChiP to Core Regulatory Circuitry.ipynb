{
 "cells": [
  {
   "cell_type": "markdown",
   "metadata": {},
   "source": [
    "# From ChiP to Core Regulatory Circuitry.\n",
    "Jérémie Kalfon\n",
    "@jkobject\n",
    "\n",
    "[www.jkobject.com](https://www.jkobject.com)\n",
    "\n",
    "in partnership with the Broad Institute\n",
    "\n",
    "thanks to young Lab @ MIT"
   ]
  },
  {
   "cell_type": "code",
   "execution_count": 26,
   "metadata": {},
   "outputs": [],
   "source": [
    "from Bio import SeqIO\n",
    "import os\n",
    "path_to_rose = \"/Users/jeremie/Documents/logiciels/rose\"\n",
    "mypath= \"datatosend\"\n",
    "os.chdir(path_to_rose)\n",
    "import ROSE_utils\n",
    "a = [\"/Users/jeremie/Documents/Projects/BroadInstitute/CHiP2CRC\"] #! pwd\n",
    "a = a[0]\n",
    "%load_ext autoreload\n",
    "%autoreload 2"
   ]
  },
  {
   "cell_type": "markdown",
   "metadata": {},
   "source": [
    "### you might need to install an extention to curl to download from an sftp server. otherwise reinstall the latest version of curl with libssh\n",
    "\n",
    "on mac: \n",
    "`brew install curl --with-libssh2=/usr/local`\n",
    "after installing [conda]( \n",
    "```\n",
    "conda config --add channels defaults\n",
    "conda config --add channels bioconda\n",
    "conda config --add channels conda-forge\n",
    "```\n",
    "then\n",
    "`conda config install bowtie2 && pip install MACS2`\n",
    "then `git clone` and provide path to [ROSE](https://bitbucket.org/young_computation/rose/src) and [CRCMapper](https://bitbucket.org/young_computation/crcmapper)\n",
    "\n",
    "for CRC mapper you need [meme](http://meme-suite.org/doc/install.html?man_type=web)\n",
    "Not every version will work as they do not contain the same functions unfortunatly. I have found version **4.12.0** to work."
   ]
  },
  {
   "cell_type": "code",
   "execution_count": null,
   "metadata": {},
   "outputs": [],
   "source": [
    "mypath= \"datatosend\"\n",
    "! curl -k \"sftp://bioinfodata.wistar.upenn.edu/datatosend.tar.gz\" --user [NAME] > $mypath.tar.gz\n"
   ]
  },
  {
   "cell_type": "markdown",
   "metadata": {},
   "source": [
    "## the call might stop for many reasons. in this case just run this function below to continue it from where you started as the -R option is not working well with curl and sftp"
   ]
  },
  {
   "cell_type": "code",
   "execution_count": null,
   "metadata": {},
   "outputs": [],
   "source": [
    "def notfinished():\n",
    "    s = os.path.getsize(mypath+'.tar.gz')\n",
    "    ! curl -C $s -k \"sftp://bioinfodata.wistar.upenn.edu/datatosend.tar.gz\" --user [NAME] > $mypath1.tar.gz\n",
    "    ! cat $mypath.tar.gz $mypath1.tar.gz > $mypath2.tar.gz\n",
    "    ! rm $mypath.tar.gz $mypath1.tar.gz\n",
    "    ! mv $mypath2.tar.gz $mypath.tar.gz"
   ]
  },
  {
   "cell_type": "markdown",
   "metadata": {},
   "source": [
    "### here we prepare the libs and the alignments with the hg19/37 version of the genome as it is the best one currently working with CRCmapper"
   ]
  },
  {
   "cell_type": "code",
   "execution_count": null,
   "metadata": {},
   "outputs": [],
   "source": [
    "! gzip -d $mypath.tar.gz\n",
    "! curl ftp://ftp.ensembl.org/pub/grch37/current/fasta/homo_sapiens/dna/Homo_sapiens.GRCh37.dna.toplevel.fa.gz > reference.fa.gz\n",
    "! gzip -d reference.fa.gz\n",
    "! mkdir reference\n",
    "os.chdir(\"reference\")\n",
    "! wget --timestamping 'ftp://hgdownload.cse.ucsc.edu/goldenPath/hg19/chromosomes/chr{1,2,3,4,5,6,7,8,9,10,11,12,13,14,15,16,17,18,19,20,21,22,X,Y}.fa.gz'\n",
    "! gzip -d *.fa.gz"
   ]
  },
  {
   "cell_type": "markdown",
   "metadata": {},
   "source": [
    "### some visualization"
   ]
  },
  {
   "cell_type": "code",
   "execution_count": null,
   "metadata": {
    "scrolled": true
   },
   "outputs": [],
   "source": [
    "for i, rec in enumerate(SeqIO.parse(mypath+\"/54-mp457-PDX34-H3K27ac-r2_S7_R1.fastq\", \"fastq\")):\n",
    "    print(rec)\n",
    "    if i > 10:\n",
    "        break    "
   ]
  },
  {
   "cell_type": "markdown",
   "metadata": {},
   "source": [
    "## here we can see the -logp that the base call was incorrect (called phred quality/sanger quality...) "
   ]
  },
  {
   "cell_type": "code",
   "execution_count": null,
   "metadata": {
    "scrolled": true
   },
   "outputs": [],
   "source": [
    "for i, rec in enumerate(SeqIO.parse(mypath+\"/54-mp457-PDX34-H3K27ac-r2_S7_R1.fastq\", \"fastq\")):\n",
    "    print(rec.seq)\n",
    "    if i > 10:\n",
    "        break"
   ]
  },
  {
   "cell_type": "code",
   "execution_count": null,
   "metadata": {
    "scrolled": true
   },
   "outputs": [],
   "source": [
    "! MACS2 callpeak -h"
   ]
  },
  {
   "cell_type": "code",
   "execution_count": null,
   "metadata": {
    "scrolled": true
   },
   "outputs": [],
   "source": [
    "! bowtie2 -h"
   ]
  },
  {
   "cell_type": "markdown",
   "metadata": {},
   "source": [
    "### Let's build the indexes with bowtie2  "
   ]
  },
  {
   "cell_type": "code",
   "execution_count": null,
   "metadata": {},
   "outputs": [],
   "source": [
    "! bowtie2-build $mypath/reference.fa index --threads 8\n",
    "#maybe try to output bampe files next time (and with higher sensibility) for macs2 to read the paired end information"
   ]
  },
  {
   "cell_type": "markdown",
   "metadata": {},
   "source": [
    "### we then produce the alignments\n",
    "\n",
    "here we use the paired end alignments"
   ]
  },
  {
   "cell_type": "code",
   "execution_count": null,
   "metadata": {},
   "outputs": [],
   "source": [
    "! bowtie2 -x index -1 $mypath/54-mp457-PDX34-H3K27ac-r2_S7_R1.fastq.gz -2 $mypath/54-mp457-PDX34-H3K27ac-r2_S7_R2.fastq.gz -S $mypath/mapped.sam --threads 8 -t"
   ]
  },
  {
   "cell_type": "markdown",
   "metadata": {},
   "source": [
    "### we can then use macs2 for the peak calling "
   ]
  },
  {
   "cell_type": "code",
   "execution_count": null,
   "metadata": {
    "scrolled": true
   },
   "outputs": [],
   "source": [
    "! MACS2 callpeak -f BAMPE -t $mypath/mapped.sam --outdir \"peak_called_bampe\"\n",
    "# "
   ]
  },
  {
   "cell_type": "markdown",
   "metadata": {},
   "source": [
    "### Some visualization..."
   ]
  },
  {
   "cell_type": "code",
   "execution_count": null,
   "metadata": {},
   "outputs": [],
   "source": [
    "! Rscript peak_called/NA_model.r\n",
    "from IPython.display import IFrame\n",
    "IFrame(\"./peak_called/NA_model.pdf\", width=600, height=300)"
   ]
  },
  {
   "cell_type": "markdown",
   "metadata": {},
   "source": [
    "### finally we need some file transformation for rose to be able to process everything well\n",
    "\n",
    "we transform the outputed bed files into gff for rose to be able to process"
   ]
  },
  {
   "cell_type": "code",
   "execution_count": null,
   "metadata": {},
   "outputs": [],
   "source": [
    "import ROSE_utils\n",
    "ROSE_utils.bedToGFF(bed=\"/Users/jeremie/Documents/Projects/BroadInstitute/CHiP2CRC/peak_called/NA_summits.bed\",output=\"/Users/jeremie/Documents/Projects/BroadInstitute/CHiP2CRC/peak_called/NA_summits.gff\")"
   ]
  },
  {
   "cell_type": "markdown",
   "metadata": {},
   "source": [
    "we then sort and index the mapped reads"
   ]
  },
  {
   "cell_type": "code",
   "execution_count": null,
   "metadata": {},
   "outputs": [],
   "source": [
    "! samtools sort --threads 6 $mypath/mapped.sam > $mypath/mapped_sorted.bam "
   ]
  },
  {
   "cell_type": "markdown",
   "metadata": {},
   "source": [
    "we erase the now useless file"
   ]
  },
  {
   "cell_type": "code",
   "execution_count": null,
   "metadata": {},
   "outputs": [],
   "source": [
    "! rm $mypath/mapped.sam"
   ]
  },
  {
   "cell_type": "markdown",
   "metadata": {},
   "source": [
    "we sort the reads"
   ]
  },
  {
   "cell_type": "code",
   "execution_count": null,
   "metadata": {},
   "outputs": [],
   "source": [
    "! samtools index -@ 7 $mypath/mapped_sorted.bam"
   ]
  },
  {
   "cell_type": "markdown",
   "metadata": {},
   "source": [
    "### finally we have to switch folders and then call rose\n",
    "rose will now stitch the enhancers to find the superenhancers in this cell line "
   ]
  },
  {
   "cell_type": "code",
   "execution_count": null,
   "metadata": {},
   "outputs": [],
   "source": [
    "import os\n",
    "a = ['/Users/jeremie/Documents/Projects/BroadInstitute/CHiP2CRC'] #! pwd\n",
    "a = a[0]\n",
    "path_to_rose = \"/Users/jeremie/Documents/logiciels/rose\"\n",
    "os.chdir(path_to_rose)\n",
    "! python ROSE_main.py -g hg19 -i $a/peak_called/NA_summits.gff -r $a/$mypath/mapped_sorted.bam -o $a/superenhancers"
   ]
  },
  {
   "cell_type": "markdown",
   "metadata": {},
   "source": [
    "### We can now create a map of the core regulatory circuitry of this cell line!"
   ]
  },
  {
   "cell_type": "markdown",
   "metadata": {},
   "source": [
    "they were two lines to change in crcmapper to make it work...\n",
    "```python\n",
    "def createExpressionDict(annotationFile, projectFolder, projectName, refseqToNameDict, expressionTable):\n",
    "```\n",
    "-----\n",
    "line 98\n",
    "\n",
    "----\n",
    "\n",
    "and \n",
    "```python\n",
    "for line in expressionTable[1:]:\n",
    "    trid = line[0]\n",
    "    geneName = refseqToNameDict[trid]\n",
    "    if len(expressionTable[1]) == 3:  # when expressionTable is an output from bamToGFF.py\n",
    "        exp = float(line[2])\n",
    "    else:  # when expressionTable is passed as an option (2 columns)\n",
    "        exp = float(line[1])\n",
    "```\n",
    "----\n",
    "line 120 \n",
    "creating syntax error\n",
    "\n",
    "----\n",
    "\n",
    "and\n",
    "```python\n",
    "self._chr = self.__chrDict[chr] if self.__chrDict[chr][:3] == 'chr' else 'chr' + self.__chrDict[chr]\n",
    "```\n",
    "----\n",
    "in utils.py line 44\n",
    "to accomodate the potential variation in name in bam output files (chr# or #) \n",
    "\n",
    "---\n",
    "\n",
    "and\n",
    "```python\n",
    "382:done = False\n",
    "    for line in fimoTable[1:]:\n",
    "        source = motifDatabaseDict[line[0]]\n",
    "        if not done:\n",
    "            for p, s in enumerate(line):\n",
    "                if '|' in s:\n",
    "                    pos = p\n",
    "                    done = True\n",
    "                    break\n",
    "\n",
    "        region = line[pos].split('|')\n",
    "403:if (region[1], int(region[2]) + int(line[pos + 1]), int(region[2]) + int(line[pos + 2])) not in motifDictSE[source]:\n",
    "\n",
    "405:motifDictSE[source].append((region[1], int(region[2]) + int(line[pos + 1]), int(region[2]) + int(line[pos + 1])))\n",
    "```\n",
    "---\n",
    "to accomodate for the potential different positions of the fimo table output according to different `meme` version\n",
    "\n",
    "---\n",
    "\n",
    "\n"
   ]
  },
  {
   "cell_type": "code",
   "execution_count": 51,
   "metadata": {
    "scrolled": true
   },
   "outputs": [
    {
     "name": "stdout",
     "output_type": "stream",
     "text": [
      "/Users/jeremie/Documents/Projects/BroadInstitute/CHiP2CRC datatosend\n",
      "CREATING SUPER-ENHANCER LOCUS COLLECTION\n",
      "CREATING EXPRESSION DICTIONARY\n",
      "Expression cutoff: 0.0\n",
      "FINDING CANDIDATE TFs\n",
      "Number of candidate TFs: 27\n",
      "CREATE CANDIDATE TFs AND SE TABLE\n",
      "MAKE FASTA\n",
      "MOTIF SEARCH\n",
      "Number of annotated candidate TFs that have motifs: 14\n",
      "fimo --motif 'JASPAR2014.MA0102.3' --motif 'Transfac.V$CFOS_Q6' --motif 'JASPAR2014.MA0476.1' --motif 'Transfac.V$JUNB_Q6' --motif 'JASPAR2014.MA0490.1' --motif 'Transfac.V$KLF3_Q3' --motif 'Transfac.V$KLF7_04' --motif 'Transfac.V$KLF7_03' --motif 'Uniprobe.UP00093_1' --motif 'Uniprobe.UP00093_2' --motif 'Transfac.V$MEF2D_01' --motif 'Jolma2013.MEF2D_DBD' --motif 'Transfac.V$MNT_01' --motif 'Jolma2013.MNT_DBD' --motif 'Transfac.V$MZF1_02' --motif 'Transfac.V$MZF1_01' --motif 'Transfac.V$MZF1_Q5' --motif 'JASPAR2014.MA0056.1' --motif 'JASPAR2014.MA0057.1' --motif 'JASPAR2014.MA0107.1' --motif 'Transfac.V$RFX1_02' --motif 'Transfac.V$RFX1_01' --motif 'Transfac.V$EFC_Q6' --motif 'Transfac.V$RFX_Q6' --motif 'Transfac.V$RFX1_Q6' --motif 'JASPAR2014.MA0509.1' --motif 'Transfac.V$SOX4_03' --motif 'Transfac.V$SOX4_01' --motif 'Transfac.V$SOX4_Q5' --motif 'Transfac.V$SOX5_07' --motif 'Uniprobe.UP00062_1' --motif 'Uniprobe.UP00062_2' --motif 'Transfac.V$SREBP1_Q5' --motif 'Transfac.V$SREBF1_01' --motif 'JASPAR2014.MA0595.1' --motif 'Jolma2013.Srebf1_DBD' --motif 'Transfac.V$ZBTB7A_01' --motif 'Jolma2013.ZBTB7A_DBD' --motif 'Transfac.V$ZABC1_01' -verbosity 1 -text -oc /Users/jeremie/Documents/Projects/BroadInstitute/CHiP2CRC/crcmapper --bgfile /Users/jeremie/Documents/Projects/BroadInstitute/CHiP2CRC/crcmapperCRC_bg.meme ./VertebratePWMs.txt /Users/jeremie/Documents/Projects/BroadInstitute/CHiP2CRC/crcmapperCRC_SUBPEAKS.fa > /Users/jeremie/Documents/Projects/BroadInstitute/CHiP2CRC/crcmapperfimo.txt\n",
      "IDENTIFY TF-TF INTERACTIONS\n",
      "IDENTIFYING CRCs\n",
      "Number of possible CRCs:\n",
      "7\n",
      "Top CRC:\n",
      "(['MEF2D', 'KLF3'], 3.0, 2)\n"
     ]
    }
   ],
   "source": [
    "path_to_crcmapper = \"/Users/jeremie/Documents/logiciels/crcmapper\"\n",
    "os.chdir(path_to_crcmapper)\n",
    "from CRCmapper import findCRC\n",
    "print a, mypath\n",
    "findCRC(\n",
    "    fasta=a+\"/\"+mypath+\"/reference/\", \n",
    "    genome=\"HG19\", \n",
    "    enhancers=a+\"/superenhancers/NA_summits_AllEnhancers.table.txt\", \n",
    "    bam=a+\"/\"+mypath+\"/mapped_sorted.bam\", \n",
    "    subpeaks=a+\"/peak_called/NA_summits.bed\", \n",
    "    name=\"CRC\", \n",
    "    output=a+\"/crcmapper\", \n",
    "    activity=a+\"/crcmappermatrix.gff\",\n",
    "    expCutoff=33, extension=500, Enumber=\"supers\")\n",
    "! mkdir CRC\n",
    "! mv crcmapper* CRC/"
   ]
  },
  {
   "cell_type": "code",
   "execution_count": null,
   "metadata": {
    "scrolled": true
   },
   "outputs": [],
   "source": [
    "! fasta-get-markov"
   ]
  },
  {
   "cell_type": "markdown",
   "metadata": {},
   "source": [
    "## an automated version"
   ]
  },
  {
   "cell_type": "code",
   "execution_count": null,
   "metadata": {},
   "outputs": [],
   "source": [
    "mypath = \"datatosend\"\n",
    "refs = [30,31,32,33,34]\n",
    "files = {}\n",
    "path_to_rose = \"/Users/jeremie/Documents/logiciels/rose\"\n",
    "path_to_crcmapper = \"/Users/jeremie/Documents/logiciels/crcmapper\"\n",
    "a = ! pwd\n",
    "a = a[0]\n",
    "os.chdir(path_to_rose)\n",
    "import ROSE_utils\n",
    "os.chdir(a)\n",
    "for ref in refs\n",
    "    for r in os.listdir(mypath):\n",
    "        if r[:2] in refs:\n",
    "            lane = \"R1\" if \"_R1\" in r else \"R2\"\n",
    "            files[lane] = r\n",
    "            ! bowtie2 -x index -1 $mypath/$files[\"R1\"] -2 $mypath/$files[\"R2\"] -S $mypath/mapped.sam --threads 8 -t\n",
    "            ! MACS2 callpeak -t $mypath/mapped.sam --outdir peak_called_$ref\n",
    "            ! Rscript peak_called_$ref/NA_model.r\n",
    "            ! samtools sort --threads 6 $mypath/mapped.sam > $mypath/mapped_sorted_$ref.bam \n",
    "            ! rm $mypath/mapped.sam\n",
    "            ! samtools index -@ 7 $mypath/mapped_sorted_$ref.bam \n",
    "            os.chdir(path_to_rose)\n",
    "            ROSE_utils.bedToGFF(bed=a + \"/peak_called_\"+ref+\"/NA_summits.bed\",output=a + \"/peak_called_\"+ ref +\"/NA_summits.gff\")\n",
    "            ! python ROSE_main.py -g hg19 -i $a/peak_called_$ref/NA_summits.gff -r $a/$mypath/mapped_sorted_$ref.bam -o $a/superenhancers_$ref\n",
    "            os.chdir(path_to_crcmapper)\n",
    "            ! python CRCmapper.py -e $a/superenhancers_$ref/NA_summits_AllEnhancers.table.txt -b $a/$mypath/mapped_sorted_$ref.bam -g hg19 -f $a/$mypath/reference  -s $a/peak_called_$ref/NA_summits.bed -n CRC -o $a/crcmapper_$ref\n",
    "            os.chdir(a)"
   ]
  }
 ],
 "metadata": {
  "kernelspec": {
   "display_name": "Python 2",
   "language": "python",
   "name": "python2"
  },
  "language_info": {
   "codemirror_mode": {
    "name": "ipython",
    "version": 2
   },
   "file_extension": ".py",
   "mimetype": "text/x-python",
   "name": "python",
   "nbconvert_exporter": "python",
   "pygments_lexer": "ipython2",
   "version": "2.7.3"
  }
 },
 "nbformat": 4,
 "nbformat_minor": 2
}
